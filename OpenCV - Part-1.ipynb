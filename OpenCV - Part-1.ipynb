{
 "cells": [
  {
   "cell_type": "markdown",
   "id": "5c655498",
   "metadata": {},
   "source": [
    "#      OpenCV  "
   ]
  },
  {
   "cell_type": "markdown",
   "id": "79ebc601",
   "metadata": {},
   "source": [
    "<pre>1)OpenCV is an image processing library created by Intel and later supported by Willow Garage and now maintained by Itseez.\n",
    "2)Opencv is available on Mac, Windows, Linux. Works in C, C++, and Python.\n",
    "3)It is Open Source and free.\n",
    "4)Opencv is easy to use and install.\n",
    "\n",
    "5)Digital Images are stored in the form of matrix\n",
    "\n",
    "<u>Computers see Images</u>\n",
    "   1)GrayScale (1 Channel)\n",
    "   2)RGB (3 Channel)\n",
    "   \n",
    "<u>Numpy</u>\n",
    "1) Highly optimized Library for numerical operations\n",
    "2) General Purpose array processing Package provides high performance multidimensional array object\n",
    "\n",
    "<b><u>Install openCV</u> </b>\n",
    "pip install opencv-python\n",
    "->import cv2\n",
    "->cv2.__version__ </pre>"
   ]
  },
  {
   "cell_type": "markdown",
   "id": "123ceb6c",
   "metadata": {},
   "source": [
    "### <u>How to read ,Write and Show Images</u>"
   ]
  },
  {
   "cell_type": "markdown",
   "id": "980c0c46",
   "metadata": {},
   "source": [
    "<pre>\n",
    "If the image is present in the given location it return that particular image array or else it will return the None\n",
    "\n",
    "<b>Flag</b> \n",
    " 0-Grayscale\n",
    " 1-ColoredImage\n",
    "-1-Unchanged</pre>"
   ]
  },
  {
   "cell_type": "code",
   "execution_count": null,
   "id": "fc031b4f",
   "metadata": {},
   "outputs": [],
   "source": [
    "import cv2\n",
    "img=cv2.imread(\"1.jpg\",-1)    #read the images,flag\n",
    "reshape_img=cv2.resize(img,(250,400)) #resize the image\n",
    "cv2.imshow(\"Display_resize\",reshape_img) #Show Images\n",
    "k=cv2.waitKey(0)  # 0--wait untill we manually close\n",
    "cv2.destroyAllWindows() # #Delete the created window"
   ]
  },
  {
   "cell_type": "markdown",
   "id": "8391a267",
   "metadata": {},
   "source": [
    "### Destroy windows with particular character"
   ]
  },
  {
   "cell_type": "code",
   "execution_count": null,
   "id": "a445766f",
   "metadata": {},
   "outputs": [],
   "source": [
    "import cv2\n",
    "img=cv2.imread(\"1.jpg\",-1)    #read the images\n",
    "reshape_img=cv2.resize(img,(250,400)) #resize the image\n",
    "cv2.imshow(\"Display_resize\",reshape_img) #Show Images\n",
    "k=cv2.waitKey(0) \n",
    "if k==27:\n",
    "    cv2.destroyAllWindows()\n",
    "elif k==ord('s'):\n",
    "    cv2.imwrite('1_copy.jpg',reshape_img) #write the image \n",
    "    cv2.destroyAllWindows()"
   ]
  },
  {
   "cell_type": "markdown",
   "id": "a960c158",
   "metadata": {},
   "source": [
    "### Read  and Show Images from camera\n",
    "\n"
   ]
  },
  {
   "cell_type": "code",
   "execution_count": null,
   "id": "597b3d1e",
   "metadata": {},
   "outputs": [],
   "source": [
    "import cv2\n",
    "cap=cv2.VideoCapture(0) #0 inbuild , External=-1\n",
    "print(cap.isOpened())\n",
    "while True:    #Capture Frame\n",
    "    ret,frame=cap.read() # cap.read return true if the cap is available \n",
    "    if ret==True:\n",
    "        gray=cv2.cvtColor(frame,cv2.COLOR_BGR2GRAY)  #converting BGR to gray\n",
    "        cv2.imshow('Its Capturing',gray)             # show the image\n",
    "        if cv2.waitKey(1) & 0xFF==ord('q'):  #for 64 bit we provide this OxFF mask  waitkey(any integer) ord(any character)\n",
    "            break\n",
    "    else:\n",
    "        break\n",
    "cap.release()\n",
    "cv2.destroyAllWindows()"
   ]
  },
  {
   "cell_type": "markdown",
   "id": "632f4645",
   "metadata": {},
   "source": [
    "### Store the captured video in mp4 file"
   ]
  },
  {
   "cell_type": "code",
   "execution_count": null,
   "id": "f7561660",
   "metadata": {},
   "outputs": [],
   "source": [
    "import cv2\n",
    "cap=cv2.VideoCapture(0)\n",
    "print(cap)\n",
    "#Define the codec and create VideoWriter object\n",
    "# FourCC is a 4-byte code used to specify the video codec\n",
    "# Codec used for compressing and decompressing digital media, especially audio and video\n",
    "save=cv2.VideoWriter_fourcc(*'XVID') #XVID also requires a 3 channel image\n",
    "out=cv2.VideoWriter('output.mp4',save,20.0,(640,480)) #20.0-No.of frames per second ,((column, row))\n",
    "\n",
    "\n",
    "while (cap.isOpened()): # True if the video file opened\n",
    "    ret,frame=cap.read()\n",
    "    if ret==True:\n",
    "        out.write(frame)   #write the video\n",
    "        gray=cv2.cvtColor(frame,cv2.COLOR_BGR2GRAY)\n",
    "        cv2.imshow(\"Display\",gray)\n",
    "        if cv2.waitKey(1) & 0xFF==ord('q'): \n",
    "            break\n",
    "    else:\n",
    "        break\n",
    "cap.release()\n",
    "out.release()\n",
    "cv2.destroyAllWindows()"
   ]
  },
  {
   "cell_type": "markdown",
   "id": "b017b8ba",
   "metadata": {},
   "source": [
    "### Display the Width and Height of the video Frame -   Setting the camera Parameter"
   ]
  },
  {
   "cell_type": "code",
   "execution_count": null,
   "id": "898d3f7c",
   "metadata": {},
   "outputs": [],
   "source": [
    "import cv2\n",
    "cap=cv2.VideoCapture(0) #0 inbuild , External=-1\n",
    "\n",
    "print(cap.get(cv2.CAP_PROP_FRAME_WIDTH)) #return the video frame width\n",
    "print(cap.get(cv2.CAP_PROP_FRAME_HEIGHT)) #return the video frame height\n",
    "\n",
    "print(cap.isOpened()) #True if the video file opened\n",
    "\n",
    "cap.set(3,700) #associate parameter for width is 3\n",
    "cap.set(4,400) \n",
    "\n",
    "print(cap.get(3)) #Display only the available width\n",
    "print(cap.get(4)) #display only the availale parameter\n",
    "\n",
    "while True:\n",
    "    ret,frame=cap.read()\n",
    "    if ret==True:\n",
    "        gray=cv2.cvtColor(frame,cv2.COLOR_BGR2GRAY)  #converting BGR to gray\n",
    "        cv2.imshow('Its Capturing',gray)             # show the image\n",
    "        if cv2.waitKey(1) & 0xFF==ord('q'):\n",
    "            break\n",
    "    else:\n",
    "        break\n",
    "        \n",
    "cap.release()\n",
    "cv2.destroyAllWindows()"
   ]
  },
  {
   "cell_type": "markdown",
   "id": "33d4d65a",
   "metadata": {},
   "source": [
    "### Display current date and time in runtime"
   ]
  },
  {
   "cell_type": "code",
   "execution_count": null,
   "id": "3ed7e279",
   "metadata": {},
   "outputs": [],
   "source": [
    "import cv2\n",
    "import datetime\n",
    "\n",
    "cap=cv2.VideoCapture(0)\n",
    "\n",
    "while cap.isOpened():\n",
    "    ret,frame=cap.read()\n",
    "    if ret==True:\n",
    "        font=cv2.FONT_HERSHEY_SIMPLEX #font style\n",
    "        datet=str(datetime.datetime.now()) #text that shows in a video\n",
    "        cv2.putText(frame,datet,(70,30),font,0.8,(234,134,132),3,cv2.LINE_AA) # #img,text,codinates,font,width,color,thickness\n",
    "        cv2.imshow('Display',frame)\n",
    "        if cv2.waitKey(1) & 0xFF==ord('q'):\n",
    "            break\n",
    "    else:\n",
    "        break\n",
    "        \n",
    "cap.release()\n",
    "cv2.destroyAllWindows()"
   ]
  },
  {
   "cell_type": "markdown",
   "id": "e94326cd",
   "metadata": {},
   "source": [
    "### '''Handle Mouse Button ----To find the cordinate of the particular Image'''\n"
   ]
  },
  {
   "cell_type": "code",
   "execution_count": null,
   "id": "b2400f31",
   "metadata": {},
   "outputs": [],
   "source": [
    "import cv2\n",
    "events=[i for i in dir(cv2) if 'EVENT' in i] # Mouse handling events\n",
    "print(events)\n",
    "\n",
    "def click_button(event,x,y,flags,param):\n",
    "    if event==cv2.EVENT_LBUTTONDOWN:\n",
    "        print(x,',',y)\n",
    "        font=cv2.FONT_HERSHEY_SIMPLEX\n",
    "        strxy=str(x)+','+str(y)\n",
    "        cv2.putText(img,strxy,(x,y),font,1,(255,255,255),2) \n",
    "        cv2.imshow('image',img)\n",
    "    if event==cv2.EVENT_RBUTTONDOWN:\n",
    "        b=img[y,x,0]\n",
    "        g=img[y,x,1]\n",
    "        r=img[y,x,2]\n",
    "        font=cv2.FONT_HERSHEY_SIMPLEX\n",
    "        strbgr=str(b)+','+str(g)+','+str(r)\n",
    "        cv2.putText(img,strbgr,(x,y),font,1,(212,87,193),3)\n",
    "        cv2.imshow('image',img)\n",
    "img=cv2.imread('1.jpg')\n",
    "img=cv2.resize(img,(400,400))\n",
    "cv2.imshow('image',img)\n",
    "cv2.setMouseCallback('image',click_button)\n",
    "cv2.waitKey(0)\n",
    "cv2.destroyAllWindows()"
   ]
  },
  {
   "cell_type": "markdown",
   "id": "24f4b91e",
   "metadata": {},
   "source": [
    "### Mege two images into a single Image"
   ]
  },
  {
   "cell_type": "code",
   "execution_count": null,
   "id": "550a0b00",
   "metadata": {},
   "outputs": [],
   "source": [
    "import cv2\n",
    "import numpy as np\n",
    "\n",
    "img1=cv2.imread('1.jpg')\n",
    "img2=cv2.imread('2.jpg')\n",
    "\n",
    "#split\n",
    "b,g,r=cv2.split(img1) #split image into b,g,r\n",
    "img=cv2.merge((b,g,r)) #merge b,g,r into oiginal image\n",
    "print(img.shape)\n",
    "print(img.size)\n",
    "print(img.dtype)\n",
    "\n",
    "img1=cv2.resize(img,(500,500))\n",
    "img2=cv2.resize(img,(500,500))\n",
    "\n",
    "\n",
    "op=cv2.add(img2,img1) #add two images\n",
    "op=cv2.addWeighted(img1,.5,img2,.9,0) #.5 img thickness , .9 img2--Thickness\n",
    "\n",
    "cv2.imshow('image',op)\n",
    "cv2.waitKey(0)\n",
    "cv2.destroyAllWindows()"
   ]
  },
  {
   "cell_type": "markdown",
   "id": "f62f21da",
   "metadata": {},
   "source": [
    "### <u>Bitwise Operations</u>"
   ]
  },
  {
   "cell_type": "markdown",
   "id": "f808fe26",
   "metadata": {},
   "source": [
    "\n",
    "\n",
    "<pre>\n",
    "and  = 0 0 0           or  = 0 0 0\n",
    "       0 1 0                 0 1 1\n",
    "       1 0 0                 1 0 1\n",
    "       1 1 1                 1 1 1\n",
    "\n",
    "Xor  = 0 0 0          Not  = 0 1\n",
    "       0 1 1                 1 0\n",
    "       1 0 1\n",
    "       1 1 0\n",
    "\n",
    "</pre>"
   ]
  },
  {
   "cell_type": "code",
   "execution_count": null,
   "id": "5ab2d2f8",
   "metadata": {},
   "outputs": [],
   "source": [
    "import cv2\n",
    "\n",
    "img1=cv2.imread('1.jpg',-1)\n",
    "img2=cv2.imread('2.jpg',-1)\n",
    "\n",
    "img1=cv2.resize(img1,(400,400)) #resize Image\n",
    "img2=cv2.resize(img2,(400,400))\n",
    "\n",
    "#bitand=cv2.bitwise_and(img1,img2)\n",
    "#bitor=cv2.bitwise_or(img1,img2)\n",
    "#bitxor=cv2.bitwise_xor(img1,img2)\n",
    "bitnot1=cv2.bitwise_not(img1)\n",
    "bitnot2=cv2.bitwise_not(img2)\n",
    "\n",
    "cv2.imshow('New_Image',bitnot2)\n",
    "cv2.waitKey(0)\n",
    "cv2.destroyAllWindows()"
   ]
  },
  {
   "cell_type": "markdown",
   "id": "cdba1a67",
   "metadata": {},
   "source": [
    "### Geometric Shapes on Images"
   ]
  },
  {
   "cell_type": "code",
   "execution_count": null,
   "id": "f3dd59cf",
   "metadata": {},
   "outputs": [],
   "source": [
    "import cv2\n",
    "import numpy as np\n",
    "\n",
    "img=cv2.imread('1.jpg',1)\n",
    "img=cv2.resize(img,(400,400))\n",
    "#Line\n",
    "img=cv2.line(img,(100,75),(0,0),(0,0,255),4)  #(image,(startpoint),(endpoint),colorBGR,Thickness)\n",
    "\n",
    "#ArrowLine\n",
    "img=cv2.arrowedLine(img,(10,255),(234,255),(0,0,255),10) #(Image,(startpoint),(endpoint),colorBGR,Thickness)\n",
    "\n",
    "#Rectangle\n",
    "#Top left,Bottom Right\n",
    "img=cv2.rectangle(img,(180,153),(45,76),(0,255,0),4) #(Image,pt1(x1,y1),pt2,color,thickness)\n",
    "\n",
    "#Circle\n",
    "img=cv2.circle(img,(185,215),60,(123,234,197),4)  #(image,center,radius,color,thickness)\n",
    "\n",
    "cv2.imshow('IMAGE',img)\n",
    "cv2.waitKey(0)\n",
    "cv2.destroyAllWindows()"
   ]
  },
  {
   "cell_type": "markdown",
   "id": "8284f4b1",
   "metadata": {},
   "source": [
    "### Bing Trackbar (Change the value of the image dynamically at runtime)"
   ]
  },
  {
   "cell_type": "code",
   "execution_count": null,
   "id": "b0b288d0",
   "metadata": {},
   "outputs": [],
   "source": [
    "import cv2\n",
    "import numpy as np\n",
    "\n",
    "img=np.zeros((300,512,3),dtype=np.uint8) \n",
    "cv2.namedWindow('image')\n",
    "\n",
    "def nothing(x): #callback (executed everytime trackbar value changes)\n",
    "    print(x)\n",
    "\n",
    "cv2.createTrackbar('B','image',0,255,nothing) #creating a trackbar (trackbarname,windowname,startpoint,end,callback)\n",
    "cv2.createTrackbar('G','image',0,255,nothing)\n",
    "cv2.createTrackbar('R','image',0,255,nothing)\n",
    "\n",
    "switch='0 :OFF 1 : ON'   \n",
    "cv2.createTrackbar(switch,'image',0,1,nothing)\n",
    "\n",
    "\n",
    "while True:\n",
    "    cv2.imshow('image',img)\n",
    "    if cv2.waitKey(1) & 0xFF==ord('q'):\n",
    "        break\n",
    "    \n",
    "    b=cv2.getTrackbarPos('B','image') #value of the created trackbar\n",
    "    g=cv2.getTrackbarPos('G','image')\n",
    "    r=cv2.getTrackbarPos('R','image')\n",
    "    s=cv2.getTrackbarPos(switch,'image')    \n",
    "    if s==0:    #if switch==0 then the image will be black\n",
    "        img[:]=0\n",
    "    else:   \n",
    "        img[:]=[b,g,r]\n",
    "        \n",
    "\n",
    "cv2.destroyAllWindows()"
   ]
  },
  {
   "cell_type": "markdown",
   "id": "95b51967",
   "metadata": {},
   "source": [
    "### Example-2 Bind Tracker -- color/gray image"
   ]
  },
  {
   "cell_type": "code",
   "execution_count": null,
   "id": "98721df4",
   "metadata": {},
   "outputs": [],
   "source": [
    "import cv2\n",
    "import numpy as np\n",
    "\n",
    "\n",
    "cv2.namedWindow('image')\n",
    "\n",
    "def nothing(x):\n",
    "    print(x)\n",
    "    \n",
    "cv2.createTrackbar('Picture','image',10,100,nothing)\n",
    "switch='color/gray'\n",
    "cv2.createTrackbar(switch,'image',0,1,nothing)\n",
    "\n",
    "while True:\n",
    "    img=cv2.imread('1_copy.jpg')\n",
    "    img=cv2.resize(img,(400,400))\n",
    "    pos=cv2.getTrackbarPos('Picture','image')\n",
    "    font=cv2.FONT_HERSHEY_SIMPLEX\n",
    "    cv2.putText(img,str(pos),(50,150),font,3,(213,89,64),2)\n",
    "    if cv2.waitKey(1) & 0xFF==ord('q'):\n",
    "        break\n",
    "\n",
    "    s=cv2.getTrackbarPos(switch,'image')  \n",
    "    \n",
    "    if s==0:\n",
    "        pass\n",
    "       #img=cv2.bitwise_not(img)\n",
    "        \n",
    "    else:\n",
    "        img=cv2.cvtColor(img,cv2.COLOR_BGR2GRAY)\n",
    "   \n",
    "    img=cv2.imshow('image',img)\n",
    "    \n",
    "cv2.destroyAllWindows()"
   ]
  },
  {
   "cell_type": "markdown",
   "id": "dea3e5d4",
   "metadata": {},
   "source": [
    "### <b><u> HSV (Hue,Saturation and Value)</u></b>"
   ]
  },
  {
   "cell_type": "markdown",
   "id": "f3c67e04",
   "metadata": {},
   "source": [
    "\n",
    "<pre>\n",
    "-->Hue( 0,360 ) degree\n",
    "-->Saturation- Amount of color( Depth of the pigment)(0-100%)\n",
    "-->Value - Brightness of the color(0-100%)\n",
    "\n",
    "<img src=\"Image.png\">\n",
    "\n",
    "-->In RGB color space all are correlated to the color Luminants (We called Intensity).\n",
    "-->In oter words we cannot seperate color information from Luminants\n",
    "\n",
    "-->HSV is used to seperate Image Luminants from color infomation\n",
    "</pre>\n",
    "\n"
   ]
  },
  {
   "cell_type": "markdown",
   "id": "e5fe3c24",
   "metadata": {},
   "source": [
    "##### Object Detection and Object Tracking"
   ]
  },
  {
   "cell_type": "code",
   "execution_count": 1,
   "id": "3819eb30",
   "metadata": {},
   "outputs": [],
   "source": [
    "#Example 1 (Usig Image)\n",
    "import cv2\n",
    "import numpy as np\n",
    "\n",
    "cv2.namedWindow('image') #window name\n",
    "\n",
    "\n",
    "while True:\n",
    "    img=cv2.imread('color.jpg')\n",
    "    hsv=cv2.cvtColor(img,cv2.COLOR_BGR2HSV) #convert bgr image to hsv \n",
    "    \n",
    "    l_b=np.array([110,50,50]) #blue color \n",
    "    u_b=np.array([130,255,255])\n",
    "    \n",
    "    mask=cv2.inRange(hsv,l_b,u_b)\n",
    "    \n",
    "    res=cv2.bitwise_and(img,img,mask=mask)\n",
    "    \n",
    "    cv2.imshow('image',img)\n",
    "    cv2.imshow('mask',mask)\n",
    "    cv2.imshow('res',res)\n",
    "    \n",
    "     \n",
    "    if cv2.waitKey(1) & 0xFF==ord('q'):\n",
    "        break\n",
    "\n",
    "\n",
    "cv2.destroyAllWindows()"
   ]
  },
  {
   "cell_type": "code",
   "execution_count": 2,
   "id": "941a2da4",
   "metadata": {},
   "outputs": [],
   "source": [
    "#Example-2(Using Camera)\n",
    "import cv2\n",
    "import numpy as np\n",
    "\n",
    "cap=cv2.VideoCapture(0)\n",
    "cv2.namedWindow('Tracking')\n",
    "def nothing(x):\n",
    "    pass\n",
    "\n",
    "cv2.createTrackbar(\"LH\",'Tracking',0,255,nothing) #creating trackbar\n",
    "cv2.createTrackbar(\"LS\",'Tracking',0,255,nothing)\n",
    "cv2.createTrackbar(\"LV\",'Tracking',0,255,nothing)\n",
    "cv2.createTrackbar(\"UH\",'Tracking',255,255,nothing)\n",
    "cv2.createTrackbar(\"US\",'Tracking',255,255,nothing)\n",
    "cv2.createTrackbar(\"UV\",'Tracking',255,255,nothing)\n",
    "\n",
    "\n",
    "while cap.isOpened():\n",
    "    \n",
    "    _,img=cap.read()\n",
    "    \n",
    "    hsv=cv2.cvtColor(img,cv2.COLOR_BGR2HSV)\n",
    "        \n",
    "    l_h=cv2.getTrackbarPos(\"LH\",'Tracking')#getting trackbar value \n",
    "    l_s=cv2.getTrackbarPos(\"LS\",'Tracking')\n",
    "    l_v=cv2.getTrackbarPos(\"LV\",'Tracking')\n",
    "    u_h=cv2.getTrackbarPos('UH','Tracking')\n",
    "    u_s=cv2.getTrackbarPos('US','Tracking')\n",
    "    u_v=cv2.getTrackbarPos('UV','Tracking')\n",
    "    \n",
    "    l_b=np.array([l_h,l_s,l_v]) #Lower_boudary=lower_hue,lower_saturation,lower_value\n",
    "    u_b=np.array([u_h,u_s,u_v]) #Upper_boundary=upper_hue,upper_saturation,upper_value\n",
    "    \n",
    "    \n",
    "    mask=cv2.inRange(hsv,l_b,u_b)\n",
    "    \n",
    "    res=cv2.bitwise_and(img,img,mask=mask)\n",
    "    \n",
    "    cv2.imshow('image',img)\n",
    "    cv2.imshow('mask',mask)\n",
    "    cv2.imshow('res',res)\n",
    "    \n",
    "     \n",
    "    if cv2.waitKey(1) & 0xFF==ord('q'):\n",
    "        break\n",
    "    \n",
    "cap.release()\n",
    "cv2.destroyAllWindows()"
   ]
  },
  {
   "cell_type": "markdown",
   "id": "78ca0565",
   "metadata": {},
   "source": [
    "### Simple Image Threshold\n",
    "<pre>\n",
    "Thresholding is the simplest method of image segmentation. From a grayscale image, thresholding can be used to create binary images.\n",
    "</pre>\n",
    "<pre>\n",
    "THRESH_BINARY =0,1\n",
    "THRESH_BINARY_INV=1,0\n",
    "THRESH_TRUNC - Before threshold the value will not change its remains same as Original Image\n",
    "               After threshold to end the value will remains same as threshold value\n",
    "               \n",
    "THRESH_TOZERO - Whenever pixel Value less than threshold,the value assign to zero\n",
    "THRESH_TOZERO_INV - opposite to THRESH_TOZERO\n",
    "</pre>"
   ]
  },
  {
   "cell_type": "code",
   "execution_count": 22,
   "id": "dc447756",
   "metadata": {},
   "outputs": [],
   "source": [
    "import cv2\n",
    "import numpy as np\n",
    "img=cv2.imread('bgradient.jpg')\n",
    "_,thr1=cv2.threshold(img,127,255,cv2.THRESH_BINARY)\n",
    "_,thr2=cv2.threshold(img,127,255,cv2.THRESH_BINARY_INV)\n",
    "_,thr3=cv2.threshold(img,127,255,cv2.THRESH_TRUNC)\n",
    "_,thr4=cv2.threshold(img,121,255,cv2.THRESH_TOZERO)\n",
    "_,thr5=cv2.threshold(img,121,255,cv2.THRESH_TOZERO_INV)\n",
    "cv2.imshow('Image',img)\n",
    "cv2.imshow('thresh',thr5)\n",
    "cv2.waitKey(0)\n",
    "cv2.destroyAllWindows()"
   ]
  },
  {
   "cell_type": "markdown",
   "id": "fea4b1ad",
   "metadata": {},
   "source": [
    "### Adaptive Threshold\n",
    "\n",
    "<pre>\n",
    "1) Adaptive_Thresh_Mean_C\n",
    "2) Adaptive_Thresh_Gaussian_C\n",
    "\n",
    "-->Simple Threshold might not good at all conditions\n",
    "\n",
    "-->Adaptive Threshold Algorithm calculate the thresholding value for different regions .So the thresholding value is not\n",
    "   global for each and every pixel of the Image.\n",
    "   \n",
    "-->Adaptive thresholding changes the threshold dynamically over the image. Adaptive thresholding typically takes a gray \n",
    "   scale as input and, in the simplest implementation, outputs a binary image representing the segmentation.\n",
    "</pre>"
   ]
  },
  {
   "cell_type": "code",
   "execution_count": 35,
   "id": "ca37307f",
   "metadata": {},
   "outputs": [],
   "source": [
    "import cv2\n",
    "img=cv2.imread('sudoku.png')\n",
    "img=cv2.cvtColor(img,cv2.COLOR_BGR2GRAY)\n",
    "_,thr1=cv2.threshold(img,107,255,cv2.THRESH_BINARY) #(source,thresholdvalue,maxvalue)\n",
    "\n",
    "thr2=cv2.adaptiveThreshold(img,255,cv2.ADAPTIVE_THRESH_MEAN_C,cv2.THRESH_BINARY,5,2) #blocksize,c\n",
    "thr3=cv2.adaptiveThreshold(img,255,cv2.ADAPTIVE_THRESH_GAUSSIAN_C,cv2.THRESH_BINARY,5,2)\n",
    "cv2.imshow('Image',img)\n",
    "cv2.imshow('Thresh1',thr2)\n",
    "cv2.imshow('Thresh2',thr3)\n",
    "cv2.waitKey(0)\n",
    "cv2.destroyAllWindows()"
   ]
  },
  {
   "cell_type": "markdown",
   "id": "03842be3",
   "metadata": {},
   "source": [
    "### Matplotlib with openCV\n",
    "<pre>\n",
    "1)Matplotlib is a user friendly, but powerful, plotting library for python.\n",
    "2)It is a python 2D plotting library \n",
    "3)It is widely used with openCV to display graph,images and histograms.\n",
    "\n",
    "</pre>\n",
    "<pre>\n",
    "-->OpenCV reads the image in BGR format\n",
    "-->Matplotlib reads the image in RGB format\n",
    "\n",
    "</pre>"
   ]
  },
  {
   "cell_type": "code",
   "execution_count": 2,
   "id": "27bd7907",
   "metadata": {},
   "outputs": [
    {
     "data": {
      "image/png": "[encoded data removed]",
      "text/plain": [
       "<Figure size 432x288 with 1 Axes>"
      ]
     },
     "metadata": {
      "needs_background": "light"
     },
     "output_type": "display_data"
    }
   ],
   "source": [
    "import cv2\n",
    "import matplotlib.pyplot as plt\n",
    "\n",
    "img=cv2.imread('i.jpg')\n",
    "img=cv2.cvtColor(img,cv2.COLOR_BGR2RGB)\n",
    "cv2.imshow('Image',img)\n",
    "plt.imshow(img)\n",
    "plt.show()\n",
    "\n",
    "cv2.waitKey(0)\n",
    "cv2.destroyAllWindows()"
   ]
  },
  {
   "cell_type": "code",
   "execution_count": 7,
   "id": "b419e2d5",
   "metadata": {},
   "outputs": [
    {
     "data": {
      "image/png": "[encoded data removed]",
      "text/plain": [
       "<Figure size 432x288 with 6 Axes>"
      ]
     },
     "metadata": {},
     "output_type": "display_data"
    }
   ],
   "source": [
    "import cv2\n",
    "import numpy as np\n",
    "img=cv2.imread('bgradient.jpg')\n",
    "_,thr1=cv2.threshold(img,127,255,cv2.THRESH_BINARY)\n",
    "_,thr2=cv2.threshold(img,127,255,cv2.THRESH_BINARY_INV)\n",
    "_,thr3=cv2.threshold(img,127,255,cv2.THRESH_TRUNC)\n",
    "_,thr4=cv2.threshold(img,121,255,cv2.THRESH_TOZERO)\n",
    "_,thr5=cv2.threshold(img,121,255,cv2.THRESH_TOZERO_INV)\n",
    "\n",
    "\n",
    "titles=['Original_Image','THRESH_BINARY','THRESH_BINARY_INV','THRESH_TRUNC','THRESH_TOZERO','THRESH_TOZERO_INV']\n",
    "images=[img,thr1,thr2,thr3,thr4,thr5]\n",
    "\n",
    "for i in range(len(images)):\n",
    "    plt.subplot(2,3,i+1)\n",
    "    plt.imshow(images[i])\n",
    "    plt.title(titles[i])\n",
    "    plt.xticks([]),plt.yticks([])\n",
    "plt.show()\n",
    "\n",
    "cv2.waitKey(0)\n",
    "cv2.destroyAllWindows()"
   ]
  },
  {
   "cell_type": "code",
   "execution_count": null,
   "id": "83b760f7",
   "metadata": {},
   "outputs": [],
   "source": []
  }
 ],
 "metadata": {
  "kernelspec": {
   "display_name": "Python 3",
   "language": "python",
   "name": "python3"
  },
  "language_info": {
   "codemirror_mode": {
    "name": "ipython",
    "version": 3
   },
   "file_extension": ".py",
   "mimetype": "text/x-python",
   "name": "python",
   "nbconvert_exporter": "python",
   "pygments_lexer": "ipython3",
   "version": "3.8.5"
  }
 },
 "nbformat": 4,
 "nbformat_minor": 5
}

{
 "cells": [
  {
   "cell_type": "markdown",
   "id": "c40347e0",
   "metadata": {},
   "source": [
    "# Part-5 OpenCV"
   ]
  },
  {
   "cell_type": "markdown",
   "id": "14864fb1",
   "metadata": {},
   "source": [
    "## Detect Simple Geometric Shape "
   ]
  },
  {
   "cell_type": "code",
   "execution_count": 1,
   "id": "3b03a91c",
   "metadata": {},
   "outputs": [
    {
     "name": "stdout",
     "output_type": "stream",
     "text": [
      "Aspect_Ratio 1.25\n",
      "Aspect_Ratio 1.9285714285714286\n",
      "Aspect_Ratio 0.9433962264150944\n"
     ]
    }
   ],
   "source": [
    "import cv2\n",
    "import numpy as np\n",
    "\n",
    "img=cv2.imread('shapes.png')\n",
    "img=cv2.resize(img,(500,400))\n",
    "img_gray=cv2.cvtColor(img,cv2.COLOR_BGR2GRAY)\n",
    "_,thresh=cv2.threshold(img_gray,240,255,cv2.THRESH_BINARY)\n",
    "contours,_=cv2.findContours(thresh,mode=cv2.RETR_TREE,method=cv2.CHAIN_APPROX_NONE)\n",
    "\n",
    "for contour in contours: \n",
    "#Approximates the Polygonal curves with a specific precision \n",
    "\n",
    "        approx = cv2.approxPolyDP(contour, 0.01* cv2.arcLength(contour, True), True)\n",
    "        cv2.drawContours(img, [approx], 0, (0, 0, 0), 5)\n",
    "        #It is used to change a 2-dimensional array or a multi-dimensional array into a contiguous flattened array\n",
    "        x=approx.ravel()[0]\n",
    "        y=approx.ravel()[1] #y coordinate\n",
    "        if len(approx)==3:\n",
    "            cv2.putText(img,\"Triangle\",(x,y),cv2.FONT_HERSHEY_COMPLEX,0.5,(0,0,0))\n",
    "        elif len(approx)==4:\n",
    "            x,y,w,h=cv2.boundingRect(approx)\n",
    "            aspect_ratio=float(w)/h\n",
    "            print('Aspect_Ratio',aspect_ratio)\n",
    "            if aspect_ratio>=0.95 and aspect_ratio<=1.05:\n",
    "                cv2.putText(img,'Square',(x,y),cv2.FONT_HERSHEY_COMPLEX,0.5,(0,0,0))\n",
    "            else:\n",
    "                cv2.putText(img,'Rectangle',(x,y),cv2.FONT_HERSHEY_COMPLEX,0.5,(0,0,0))\n",
    "        elif len(approx)==5:\n",
    "            cv2.putText(img,'Pentagon',(x,y),cv2.FONT_HERSHEY_COMPLEX,0.5,(0,0,0))\n",
    "        elif len(approx)==6:\n",
    "            cv2.putText(img,'Hexagon',(x,y),cv2.FONT_HERSHEY_COMPLEX,0.5,(0,0,0))\n",
    "        elif len(approx)==10:\n",
    "            cv2.putText(img,\"Star\",(x,y),cv2.FONT_HERSHEY_COMPLEX,0.5,(0,0,0))\n",
    "        else:\n",
    "            cv2.putText(img,\"Circle\",(x,y),cv2.FONT_HERSHEY_COMPLEX,0.5,(0,0,0))\n",
    "        \n",
    "\n",
    "\n",
    "cv2.imshow('img',img)\n",
    "#cv2.imshow('img',thresh)\n",
    "cv2.waitKey(0)\n",
    "cv2.destroyAllWindows()"
   ]
  },
  {
   "cell_type": "markdown",
   "id": "457f375f",
   "metadata": {},
   "source": [
    "## Image Histograms"
   ]
  },
  {
   "cell_type": "code",
   "execution_count": 4,
   "id": "62a3bfc0",
   "metadata": {},
   "outputs": [
    {
     "data": {
      "image/png": "[encoded data removed]",
      "text/plain": [
       "<Figure size 432x288 with 1 Axes>"
      ]
     },
     "metadata": {
      "needs_background": "light"
     },
     "output_type": "display_data"
    }
   ],
   "source": [
    "import cv2\n",
    "import numpy as np\n",
    "import matplotlib.pyplot as plt\n",
    "\n",
    "#img=np.zeros((200,200),np.uint8) \n",
    "img=cv2.imread('lenas.png')\n",
    "\n",
    "b,g,r=cv2.split(img)\n",
    "cv2.imshow('Image',img)\n",
    "cv2.imshow('b',b)\n",
    "cv2.imshow('g',g)\n",
    "cv2.imshow('r',r)\n",
    "\n",
    "#plt.hist(img.ravel(), 256,[0,256])\n",
    "plt.hist(b.ravel(),256,[0,256])\n",
    "plt.hist(g.ravel(),256,[0,256])\n",
    "plt.hist(r.ravel(),256,[0,256])\n",
    "plt.title('Histogram')\n",
    "\n",
    "plt.show()\n",
    "\n",
    "k=cv2.waitKey(0)\n",
    "if k==27:\n",
    "    cv2.destroyAllWindows()"
   ]
  },
  {
   "cell_type": "code",
   "execution_count": 3,
   "id": "0852fb34",
   "metadata": {},
   "outputs": [
    {
     "data": {
      "image/png": "[encoded data removed]",
      "text/plain": [
       "<Figure size 432x288 with 1 Axes>"
      ]
     },
     "metadata": {
      "needs_background": "light"
     },
     "output_type": "display_data"
    }
   ],
   "source": [
    "import cv2\n",
    "import numpy as np\n",
    "import matplotlib.pyplot as plt\n",
    "\n",
    "#img=np.zeros((200,200),np.uint8) \n",
    "img=cv2.imread('lenas.png')\n",
    "\n",
    "hist=cv2.calcHist([img],[0],None,[256],[0,256])\n",
    "plt.plot(hist)\n",
    "plt.show()\n"
   ]
  },
  {
   "cell_type": "code",
   "execution_count": null,
   "id": "989cc63e",
   "metadata": {},
   "outputs": [],
   "source": []
  }
 ],
 "metadata": {
  "kernelspec": {
   "display_name": "Python 3",
   "language": "python",
   "name": "python3"
  },
  "language_info": {
   "codemirror_mode": {
    "name": "ipython",
    "version": 3
   },
   "file_extension": ".py",
   "mimetype": "text/x-python",
   "name": "python",
   "nbconvert_exporter": "python",
   "pygments_lexer": "ipython3",
   "version": "3.8.5"
  }
 },
 "nbformat": 4,
 "nbformat_minor": 5
}

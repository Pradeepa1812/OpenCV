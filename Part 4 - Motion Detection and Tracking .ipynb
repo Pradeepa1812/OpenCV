{
 "cells": [
  {
   "cell_type": "markdown",
   "id": "a008254d",
   "metadata": {},
   "source": [
    "# OpenCV -Part4"
   ]
  },
  {
   "cell_type": "markdown",
   "id": "848d56de",
   "metadata": {},
   "source": [
    "## Find and Draw Contours with OpenCV\n",
    "\n",
    "<pre>\n",
    "<b>What are Contours ?</b>\n",
    "   -> The Curve joining all the continuous points along the boundary which are having the \n",
    "      same color or intensity\n",
    "   -> Contours can be useful tool for Shape Analysis,Object Detection or Object Recognition\n",
    "   -> For Better accuracy we use binary Image\n",
    "\n",
    "We will learn to find contours, draw contours, we will see these functions : cv2.findContours(), cv2.drawContours().\n",
    "\n",
    "</pre>"
   ]
  },
  {
   "cell_type": "code",
   "execution_count": 1,
   "id": "88bef946",
   "metadata": {},
   "outputs": [
    {
     "name": "stdout",
     "output_type": "stream",
     "text": [
      "Number of Contours 12\n",
      "[[[0 0]]\n",
      "\n",
      " [[0 1]]\n",
      "\n",
      " [[0 2]]\n",
      "\n",
      " ...\n",
      "\n",
      " [[3 0]]\n",
      "\n",
      " [[2 0]]\n",
      "\n",
      " [[1 0]]]\n"
     ]
    }
   ],
   "source": [
    "import cv2\n",
    "import numpy as np\n",
    "\n",
    "img=cv2.imread('logo.png')\n",
    "imgray=cv2.cvtColor(img,cv2.COLOR_BGR2GRAY)\n",
    "\n",
    "#Threshold\n",
    "_,thresh=cv2.threshold(imgray,127,255,0)\n",
    "\n",
    "#contours\n",
    "'''Contours is a Python list of all the contours in the image.\n",
    "   Each individual contour is a Numpy array of (x,y) coordinates of boundary points of the object'''\n",
    "\n",
    "contours,hierarchy=cv2.findContours(thresh,mode=cv2.RETR_TREE,method=cv2.CHAIN_APPROX_NONE)\n",
    "print(\"Number of Contours \"+ str(len(contours)))\n",
    "print(contours[0])\n",
    "\n",
    "cv2.drawContours(img,contours,-1,(0,255,198),thickness=3) #-1 = Display all the contours\n",
    "cv2.imshow('Logo',img)\n",
    "cv2.imshow('GrayImage',imgray)\n",
    "k=cv2.waitKey(0)\n",
    "if k==27:\n",
    "    cv2.destroyAllWindows()"
   ]
  },
  {
   "cell_type": "markdown",
   "id": "831089f2",
   "metadata": {},
   "source": [
    "\n",
    "\n",
    "\n",
    "\n",
    "\n",
    "## Motion Detection and Tracking  \n",
    "<a href=\"https://github.com/opencv/opencv/blob/master/samples/data/vtest.avi\">Video Link - Click Here to Download</a>"
   ]
  },
  {
   "cell_type": "code",
   "execution_count": 1,
   "id": "3031de96",
   "metadata": {},
   "outputs": [
    {
     "name": "stdout",
     "output_type": "stream",
     "text": [
      "(576, 768, 3)\n"
     ]
    }
   ],
   "source": [
    "import cv2\n",
    "import numpy as np\n",
    "\n",
    "cap = cv2.VideoCapture('vtest.avi')\n",
    "\n",
    "fourcc =cv2.VideoWriter_fourcc(*'XVID')\n",
    "out =cv2.VideoWriter(\"output.avi\", fourcc, 5.0, (1280,720))\n",
    "\n",
    "ret,frame1 = cap.read()\n",
    "ret,frame2 = cap.read()\n",
    "print(frame1.shape)\n",
    "\n",
    "while cap.isOpened():\n",
    "    diff =cv2.absdiff(frame1, frame2)\n",
    "    gray =cv2.cvtColor(diff, cv2.COLOR_BGR2GRAY)\n",
    "    blur =cv2.GaussianBlur(gray, (5,5), 0)\n",
    "    _, thresh =cv2.threshold(blur, 20, 255, cv2.THRESH_BINARY)\n",
    "    dilated =cv2.dilate(thresh, None, iterations=3)\n",
    "    contours, _ =cv2.findContours(dilated, cv2.RETR_TREE, cv2.CHAIN_APPROX_SIMPLE)\n",
    "\n",
    "    for contour in contours:\n",
    "        (x, y, w, h) = cv2.boundingRect(contour)\n",
    "\n",
    "        if cv2.contourArea(contour) < 800:\n",
    "            continue\n",
    "            \n",
    "        cv2.rectangle(frame1, (x, y), (x+w, y+h), (0, 255, 0), 2)\n",
    "        cv2.putText(frame1, \"Status: {}\".format('Movement'), (10, 20), cv2.FONT_HERSHEY_SIMPLEX,\n",
    "                    1, (0, 0, 255), 3)\n",
    "    #cv2.drawContours(frame1, contours, -1, (0, 255, 0), 2)\n",
    "\n",
    "    image = cv2.resize(frame1,(1280,720))\n",
    "    out.write(image)\n",
    "    cv2.imshow(\"Videofeed\", frame1)\n",
    "    frame1 = frame2\n",
    "    ret,frame2 =cap.read()\n",
    "\n",
    "    if cv2.waitKey(40)==27:\n",
    "        break\n",
    "\n",
    "cv2.destroyAllWindows()\n",
    "cap.release()\n",
    "out.release()"
   ]
  },
  {
   "cell_type": "code",
   "execution_count": null,
   "id": "ba8aba10",
   "metadata": {},
   "outputs": [],
   "source": []
  }
 ],
 "metadata": {
  "kernelspec": {
   "display_name": "Python 3",
   "language": "python",
   "name": "python3"
  },
  "language_info": {
   "codemirror_mode": {
    "name": "ipython",
    "version": 3
   },
   "file_extension": ".py",
   "mimetype": "text/x-python",
   "name": "python",
   "nbconvert_exporter": "python",
   "pygments_lexer": "ipython3",
   "version": "3.8.5"
  }
 },
 "nbformat": 4,
 "nbformat_minor": 5
}
